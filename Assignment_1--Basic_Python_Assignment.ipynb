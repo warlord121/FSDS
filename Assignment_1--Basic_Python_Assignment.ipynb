{
 "cells": [
  {
   "cell_type": "markdown",
   "metadata": {},
   "source": [
    "Quesion 1.\n",
    "\n",
    "In the below elements which of them are values or an expression? eg:- values can be integer or string and expressions will be mathematical operators.\n",
    "\n",
    "Answer 1.\n",
    "\n",
    "|Serial Number|Item|Value/Expression|\n",
    "|:----|:----:|----:|\n",
    "|1|*|Expression|\n",
    "|2|‘hello’|Value|\n",
    "|3|-87.8|Value|\n",
    "|4|-|Expression|\n",
    "|5|/|Expression|\n",
    "|6|+|Expression|\n",
    "|7|6|Value|\n",
    "\n"
   ]
  },
  {
   "cell_type": "markdown",
   "metadata": {},
   "source": []
  },
  {
   "cell_type": "markdown",
   "metadata": {},
   "source": [
    "Question 2.\n",
    "\n",
    " What is the difference between string and variable?"
   ]
  },
  {
   "cell_type": "markdown",
   "metadata": {},
   "source": [
    "Answer 2.\n",
    "\n",
    "|Variable|String|\n",
    "|:----|:----|\n",
    "|A Python variable is a symbolic name that is a reference or pointer to an object or class. The data is contained within the object.| In Python, strings are arrays of bytes representing Unicode characters. It is a collection of alphabets, words or other characters. It is one of the primitive data structures and the building blocks for data manipulation.|\n",
    "|<ul><li>We create variable using, variable_name = value.</li><li>Variables name should begin with an underscore (_) or a letter.</li><li>Variables names are case sensitive.</li><li>Python keywords cannot be used as variable names.</li></ul>|Python has a built-in string class named str. Strings are defined using single quote (‘ ‘) or double quotes(“ ”).|\n",
    "|A Python, variables are “dynamically” typed i.e. it can have a value of one type and later re-assigned a value of a different type.|Python strings are “immutable” which means they cannot be changed after they are created.|\n",
    "|Variables are of two types: global and local variables.| |\n",
    "|Variable examples:<ul><li>variable_name = 1234567890</li><li>variable_name = ‘hello’</li><li>variable_name = 67.809</li></ul>|String examples:<ul><li>string_variable_name_1 = str(12345)</li><li>string_variable_name_2 = “hello”</li><li>string_variable_name_3 = ‘single quote’</li></ui>|"
   ]
  },
  {
   "cell_type": "markdown",
   "metadata": {},
   "source": []
  },
  {
   "cell_type": "markdown",
   "metadata": {},
   "source": [
    "Question 3. \n",
    "\n",
    "Describe three different data types.\n",
    "\n",
    "\n",
    "Answer 3.\n",
    "\n",
    "There are different types of data types in Python. Some built-in Python data types are:\n",
    "<ul><li>Numeric data types: int, float, complex</li>\n",
    "<li>String data types: str</li>\n",
    "<li>Sequence types: list, tuple, range</li>\n",
    "<li>Binary types: bytes, bytearray, memoryview</li>\n",
    "<li>Mapping data type: dict</li>\n",
    "<li>Boolean type: bool</li>\n",
    "<li>Set data types: set, frozenset</ul></li>"
   ]
  },
  {
   "cell_type": "markdown",
   "metadata": {},
   "source": []
  },
  {
   "cell_type": "markdown",
   "metadata": {},
   "source": []
  },
  {
   "cell_type": "markdown",
   "metadata": {},
   "source": [
    "Question 4. \n",
    "\n",
    "What is an expression made up of? What do all expressions do?\n",
    "\n",
    "\n",
    "Answer 4.\n",
    "\n",
    "A sequence of operands and operators, like a + b – 5, is called an expression. Operators are functionality that do something and can be represented by symbols such as + or -. Operators require some data to operate on and such data is called operands. In this case, a, b, 5 are the operands.\n",
    "\n",
    "Expressions are used to produce at least one value. They can be used to create one or more statements.\n"
   ]
  },
  {
   "cell_type": "markdown",
   "metadata": {},
   "source": []
  },
  {
   "cell_type": "markdown",
   "metadata": {},
   "source": [
    "Question 5. \n",
    "\n",
    "This assignment statements, like spam = 10. What is the difference between an expression and a statement?\n",
    "\n",
    "Answer 5.\n",
    "\n",
    "Expressions produce at least one value. A sequence of operands and operators, like a + b – 5, is called an expression. For example, a+b-6 is an expression.\n",
    "\n",
    "Statements \"Do Something\" and are often composed of expressions (or other statements). Spam = 10 is an assignment statement, that assigns value(10) to “spam” variable. There are multiple types of statements like, Augmented assignment statement\n",
    "s, Annotated assignment statements, yield statement, pass statement, e.t.c."
   ]
  },
  {
   "cell_type": "markdown",
   "metadata": {},
   "source": []
  },
  {
   "cell_type": "markdown",
   "metadata": {},
   "source": [
    "Question 6. \n",
    "\n",
    "After running the following code, what does the variable bacon contain?\n",
    "\n",
    "bacon = 22\n",
    "\n",
    "bacon + 1\n",
    "\n",
    "\n",
    "\n",
    "\n",
    "Answer 6.\n",
    "\n",
    "bacon variable contains value of 22.\n"
   ]
  },
  {
   "cell_type": "markdown",
   "metadata": {},
   "source": []
  },
  {
   "cell_type": "markdown",
   "metadata": {},
   "source": [
    "Question 7. \n",
    "\n",
    "What should the values of the following two terms be?\n",
    "'spam' + 'spamspam'\n",
    "'spam' * 3\n",
    "\n",
    "\n",
    "Answer 7.\n",
    "\n",
    "'spam' + 'spamspam' will be spamspamspam\n",
    "\n",
    "'spam' * 3 will be spamspamspam\n"
   ]
  },
  {
   "cell_type": "markdown",
   "metadata": {},
   "source": []
  },
  {
   "cell_type": "markdown",
   "metadata": {},
   "source": [
    "Question 8. \n",
    "\n",
    "Why is eggs a valid variable name while 100 is invalid?\n",
    "\n",
    "Answer 8. \n",
    "\n",
    "PEP 8 – Style Guide for Python Coding(more details are encoded at PEP 8: Function and Variable Names) do not allow variable names to be integer(e.g. 100) or float types(e.g. 100.0) among other restrictions. As a result, python interpreter does not support invalid variable names.\n"
   ]
  },
  {
   "cell_type": "markdown",
   "metadata": {},
   "source": []
  },
  {
   "cell_type": "markdown",
   "metadata": {},
   "source": [
    "Question 9.\n",
    "\n",
    "What three functions can be used to get the integer, floating-point number, or string version of a value?\n",
    "\n",
    "Answer 9.\n",
    "\n",
    "<ul><li>Function to get integer version value is int().</li><li>Function to get float version value is float().</li><li>Function to get string version value is str().</li></ul>\n"
   ]
  },
  {
   "cell_type": "markdown",
   "metadata": {},
   "source": []
  },
  {
   "cell_type": "markdown",
   "metadata": {},
   "source": [
    "Question 10. \n",
    "\n",
    "Why does this expression cause an error? How can you fix it?\n",
    "'I have eaten ' + 99 + ' burritos.'\n",
    "\n",
    "Answer 10.\n",
    "\n",
    "Concatenation operator concatenates only string elements. 99 is an integer value, hence not supported.\n",
    "The fix is 'I have eaten ' + ‘99’ + ' burritos.'\n"
   ]
  }
 ],
 "metadata": {
  "kernelspec": {
   "display_name": "Python 3.8.8 ('base')",
   "language": "python",
   "name": "python3"
  },
  "language_info": {
   "name": "python",
   "version": "3.8.15"
  },
  "orig_nbformat": 4,
  "vscode": {
   "interpreter": {
    "hash": "7cd2724742a758fa188e8ca271e12427fedbcf71c575f0a57807d9a5873bb941"
   }
  }
 },
 "nbformat": 4,
 "nbformat_minor": 2
}
